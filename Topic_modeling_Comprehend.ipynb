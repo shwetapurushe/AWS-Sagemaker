{
 "cells": [
  {
   "cell_type": "code",
   "execution_count": 1,
   "metadata": {},
   "outputs": [],
   "source": [
    "# Import all the required libraries\n",
    "\n",
    "import os;\n",
    "import numpy as np;\n",
    "import pandas as pd;"
   ]
  },
  {
   "cell_type": "markdown",
   "metadata": {},
   "source": [
    "Importing the input data from an S3 bucket"
   ]
  },
  {
   "cell_type": "code",
   "execution_count": 2,
   "metadata": {},
   "outputs": [],
   "source": [
    "s3_bkt = \"s3://aws-poc-shweta\"\n",
    "s3_json_in = s3_bkt + \"/input_data/SCalcET8_out.json\"\n",
    "df = pd.read_json(s3_json_in,'index')"
   ]
  },
  {
   "cell_type": "code",
   "execution_count": 3,
   "metadata": {},
   "outputs": [
    {
     "data": {
      "text/html": [
       "<div>\n",
       "<style scoped>\n",
       "    .dataframe tbody tr th:only-of-type {\n",
       "        vertical-align: middle;\n",
       "    }\n",
       "\n",
       "    .dataframe tbody tr th {\n",
       "        vertical-align: top;\n",
       "    }\n",
       "\n",
       "    .dataframe thead th {\n",
       "        text-align: right;\n",
       "    }\n",
       "</style>\n",
       "<table border=\"1\" class=\"dataframe\">\n",
       "  <thead>\n",
       "    <tr style=\"text-align: right;\">\n",
       "      <th></th>\n",
       "      <th>cendoc</th>\n",
       "      <th>chaptername</th>\n",
       "      <th>narrativeid</th>\n",
       "      <th>plaintext</th>\n",
       "      <th>sectionname</th>\n",
       "      <th>titlename</th>\n",
       "    </tr>\n",
       "  </thead>\n",
       "  <tbody>\n",
       "    <tr>\n",
       "      <th>SCalcET8 1.1</th>\n",
       "      <td>&lt;cl:sect2 xmlns:cl=\"http://xml.cengage-learnin...</td>\n",
       "      <td>Functions and Models</td>\n",
       "      <td>SCalcET8 1.1</td>\n",
       "      <td>Four Ways to Represent a Function 1.1  Functi...</td>\n",
       "      <td>Four Ways to Represent a Function</td>\n",
       "      <td>Calculus: Early Transcendentals</td>\n",
       "    </tr>\n",
       "    <tr>\n",
       "      <th>SCalcET8 1.2</th>\n",
       "      <td>&lt;cl:sect2 xmlns:cl=\"http://xml.cengage-learnin...</td>\n",
       "      <td>Functions and Models</td>\n",
       "      <td>SCalcET8 1.2</td>\n",
       "      <td>Mathematical Models: A Catalog of Essential F...</td>\n",
       "      <td>Mathematical Models: A Catalog of Essential Fu...</td>\n",
       "      <td>Calculus: Early Transcendentals</td>\n",
       "    </tr>\n",
       "    <tr>\n",
       "      <th>SCalcET8 1.3</th>\n",
       "      <td>&lt;cl:sect2 xmlns:cl=\"http://xml.cengage-learnin...</td>\n",
       "      <td>Functions and Models</td>\n",
       "      <td>SCalcET8 1.3</td>\n",
       "      <td>New Functions from Old Functions 1.3  In this...</td>\n",
       "      <td>New Functions from Old Functions</td>\n",
       "      <td>Calculus: Early Transcendentals</td>\n",
       "    </tr>\n",
       "  </tbody>\n",
       "</table>\n",
       "</div>"
      ],
      "text/plain": [
       "                                                         cendoc  \\\n",
       "SCalcET8 1.1  <cl:sect2 xmlns:cl=\"http://xml.cengage-learnin...   \n",
       "SCalcET8 1.2  <cl:sect2 xmlns:cl=\"http://xml.cengage-learnin...   \n",
       "SCalcET8 1.3  <cl:sect2 xmlns:cl=\"http://xml.cengage-learnin...   \n",
       "\n",
       "                       chaptername   narrativeid  \\\n",
       "SCalcET8 1.1  Functions and Models  SCalcET8 1.1   \n",
       "SCalcET8 1.2  Functions and Models  SCalcET8 1.2   \n",
       "SCalcET8 1.3  Functions and Models  SCalcET8 1.3   \n",
       "\n",
       "                                                      plaintext  \\\n",
       "SCalcET8 1.1   Four Ways to Represent a Function 1.1  Functi...   \n",
       "SCalcET8 1.2   Mathematical Models: A Catalog of Essential F...   \n",
       "SCalcET8 1.3   New Functions from Old Functions 1.3  In this...   \n",
       "\n",
       "                                                    sectionname  \\\n",
       "SCalcET8 1.1                  Four Ways to Represent a Function   \n",
       "SCalcET8 1.2  Mathematical Models: A Catalog of Essential Fu...   \n",
       "SCalcET8 1.3                   New Functions from Old Functions   \n",
       "\n",
       "                                    titlename  \n",
       "SCalcET8 1.1  Calculus: Early Transcendentals  \n",
       "SCalcET8 1.2  Calculus: Early Transcendentals  \n",
       "SCalcET8 1.3  Calculus: Early Transcendentals  "
      ]
     },
     "execution_count": 3,
     "metadata": {},
     "output_type": "execute_result"
    }
   ],
   "source": [
    "df.head(3)"
   ]
  },
  {
   "cell_type": "markdown",
   "metadata": {},
   "source": [
    "Specifying the output location"
   ]
  },
  {
   "cell_type": "code",
   "execution_count": 4,
   "metadata": {},
   "outputs": [
    {
     "name": "stdout",
     "output_type": "stream",
     "text": []
    },
    {
     "name": "stdout",
     "output_type": "stream",
     "text": []
    },
    {
     "name": "stdout",
     "output_type": "stream",
     "text": [
      "upload: ../../../../tmp/narrative.csv to s3://aws-poc-shweta/output_data/narrative.csv\n"
     ]
    }
   ],
   "source": [
    "# output CSV with just id and text columns - used as input to comprehend topic model\n",
    "\n",
    "#specify the location\n",
    "s3_csv_out = s3_bkt + \"/output_data/narrative.csv\"\n",
    "df.to_csv('/tmp/narrative.csv', columns = ['narrativeid','chaptername','sectionname','plaintext'], index=False, header=False) #temp file\n",
    "!aws s3 cp '/tmp/narrative.csv' '{s3_csv_out}' #copy temp file to output location"
   ]
  },
  {
   "cell_type": "markdown",
   "metadata": {},
   "source": [
    "## 2. Topic Modeling using Comprehend"
   ]
  },
  {
   "cell_type": "code",
   "execution_count": 5,
   "metadata": {},
   "outputs": [],
   "source": [
    "import time\n",
    "from time import gmtime, strftime\n",
    "import boto3"
   ]
  },
  {
   "cell_type": "code",
   "execution_count": 6,
   "metadata": {},
   "outputs": [],
   "source": [
    "#creating the client\n",
    "client = boto3.client('comprehend')"
   ]
  },
  {
   "cell_type": "code",
   "execution_count": 7,
   "metadata": {},
   "outputs": [
    {
     "data": {
      "text/plain": [
       "<botocore.client.Comprehend at 0x7fa9591072b0>"
      ]
     },
     "execution_count": 7,
     "metadata": {},
     "output_type": "execute_result"
    }
   ],
   "source": [
    "client"
   ]
  },
  {
   "cell_type": "code",
   "execution_count": 27,
   "metadata": {},
   "outputs": [],
   "source": [
    "num_topics = 20"
   ]
  },
  {
   "cell_type": "code",
   "execution_count": 33,
   "metadata": {},
   "outputs": [],
   "source": [
    "s3_comprehend_out = s3_bkt + \"/output_data/comprehend_out/\" #where the results will be written\n",
    "\n",
    "#The role used , use this from IAM console \n",
    "#(roles > click on role created when the notebook instance was created ; summary > role ARN)\n",
    "comprehend_role = 'arn:aws:iam::684066638289:role/service-role/AmazonSageMaker-ExecutionRole-20190604T130317'\n",
    "\n",
    "#Might need to attach the appropriate policy to the Sagemaker role created in order to run comprehend jobs\n",
    "\n",
    "\n",
    "#Starting the Comprehend Job. \n",
    "response = client.start_topics_detection_job(\n",
    "    InputDataConfig={\n",
    "        'S3Uri': s3_csv_out,\n",
    "        'InputFormat': 'ONE_DOC_PER_LINE'\n",
    "    },\n",
    "    OutputDataConfig={\n",
    "        'S3Uri': s3_comprehend_out\n",
    "    },\n",
    "    DataAccessRoleArn=comprehend_role,\n",
    "    JobName='narrative_topic_model',\n",
    "    NumberOfTopics=num_topics\n",
    ")"
   ]
  },
  {
   "cell_type": "code",
   "execution_count": 34,
   "metadata": {},
   "outputs": [],
   "source": [
    "jobid = response['JobId']\n",
    "status = response['JobStatus']"
   ]
  },
  {
   "cell_type": "code",
   "execution_count": 35,
   "metadata": {},
   "outputs": [
    {
     "name": "stdout",
     "output_type": "stream",
     "text": [
      "18:19:07: FAILED\n"
     ]
    }
   ],
   "source": [
    "while status in ['SUBMITTED', 'IN_PROGRESS']:\n",
    "    response = client.describe_topics_detection_job(\n",
    "        JobId=jobid\n",
    "    )\n",
    "    status = response['TopicsDetectionJobProperties']['JobStatus']\n",
    "    print(strftime(\"%H:%M:%S\", gmtime()) + \": \" + status)\n",
    "    time.sleep(120)"
   ]
  }
 ],
 "metadata": {
  "kernelspec": {
   "display_name": "conda_python3",
   "language": "python",
   "name": "conda_python3"
  },
  "language_info": {
   "codemirror_mode": {
    "name": "ipython",
    "version": 3
   },
   "file_extension": ".py",
   "mimetype": "text/x-python",
   "name": "python",
   "nbconvert_exporter": "python",
   "pygments_lexer": "ipython3",
   "version": "3.6.5"
  }
 },
 "nbformat": 4,
 "nbformat_minor": 2
}
