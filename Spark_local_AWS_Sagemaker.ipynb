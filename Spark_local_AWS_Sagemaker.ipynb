{
 "cells": [
  {
   "cell_type": "markdown",
   "metadata": {},
   "source": [
    "## Goal"
   ]
  },
  {
   "cell_type": "markdown",
   "metadata": {},
   "source": [
    "The goal here is to be able to run PySpark for one off small analyses which do not require connecting to remote AWS instances. "
   ]
  },
  {
   "cell_type": "markdown",
   "metadata": {},
   "source": [
    "Everything is LOCAL. ON the notebook instance. TODO : confirm this."
   ]
  },
  {
   "cell_type": "code",
   "execution_count": 1,
   "metadata": {},
   "outputs": [],
   "source": [
    "from pyspark import SparkContext, SparkConf\n",
    "from pyspark.sql import SparkSession"
   ]
  },
  {
   "cell_type": "code",
   "execution_count": 2,
   "metadata": {},
   "outputs": [],
   "source": [
    "import os\n",
    "os.environ['PYSPARK_SUBMIT_ARGS'] = '--packages net.snowflake:snowflake-jdbc:3.6.24,net.snowflake:spark-snowflake_2.11:2.4.12-spark_2.3 pyspark-shell'"
   ]
  },
  {
   "cell_type": "code",
   "execution_count": 3,
   "metadata": {},
   "outputs": [],
   "source": [
    "spark = SparkSession.builder.master('local').appName('test').config('spark.driver.memory', '5G').getOrCreate()"
   ]
  },
  {
   "cell_type": "code",
   "execution_count": 4,
   "metadata": {},
   "outputs": [
    {
     "data": {
      "text/html": [
       "\n",
       "            <div>\n",
       "                <p><b>SparkSession - in-memory</b></p>\n",
       "                \n",
       "        <div>\n",
       "            <p><b>SparkContext</b></p>\n",
       "\n",
       "            <p><a href=\"http://ip-172-16-128-252.ec2.internal:4040\">Spark UI</a></p>\n",
       "\n",
       "            <dl>\n",
       "              <dt>Version</dt>\n",
       "                <dd><code>v2.3.2</code></dd>\n",
       "              <dt>Master</dt>\n",
       "                <dd><code>local</code></dd>\n",
       "              <dt>AppName</dt>\n",
       "                <dd><code>test</code></dd>\n",
       "            </dl>\n",
       "        </div>\n",
       "        \n",
       "            </div>\n",
       "        "
      ],
      "text/plain": [
       "<pyspark.sql.session.SparkSession at 0x7fd5803d9e80>"
      ]
     },
     "execution_count": 4,
     "metadata": {},
     "output_type": "execute_result"
    }
   ],
   "source": [
    "spark"
   ]
  },
  {
   "cell_type": "code",
   "execution_count": 5,
   "metadata": {},
   "outputs": [
    {
     "data": {
      "text/plain": [
       "<pyspark.sql.session.SparkSession.Builder at 0x7fd5805ca860>"
      ]
     },
     "execution_count": 5,
     "metadata": {},
     "output_type": "execute_result"
    }
   ],
   "source": [
    "spark.builder.config('spark.executor.memory', '16G')\n",
    "spark.builder.config(\"spark.executor.cores\", \"4\")"
   ]
  },
  {
   "cell_type": "markdown",
   "metadata": {},
   "source": [
    "### Creating a Spark dataframe "
   ]
  },
  {
   "cell_type": "code",
   "execution_count": 6,
   "metadata": {},
   "outputs": [
    {
     "name": "stdout",
     "output_type": "stream",
     "text": [
      "+-------+-------+\n",
      "|Column1|Column2|\n",
      "+-------+-------+\n",
      "|    100|Cengage|\n",
      "|     10| Boston|\n",
      "+-------+-------+\n",
      "\n"
     ]
    }
   ],
   "source": [
    "raw_df = spark.createDataFrame(\n",
    "    [\n",
    "        (100, 'Cengage'),\n",
    "        (10, 'Boston')\n",
    "    ],# the actual data\n",
    "    [\"Column1\", \"Column2\"] #column names\n",
    ")\n",
    "\n",
    "raw_df.show()"
   ]
  },
  {
   "cell_type": "markdown",
   "metadata": {},
   "source": [
    "### Connection with Snowflake"
   ]
  },
  {
   "cell_type": "code",
   "execution_count": 7,
   "metadata": {},
   "outputs": [],
   "source": [
    "SNOWFLAKE_SOURCE_NAME = \"net.snowflake.spark.snowflake\"\n",
    "sfOptions = {\"sfURL\":\"*\", \"sfAccount\":\"*\", \"sfUser\":\"\", \"sfPassword\":\"*\", \"sfDatabase\":\"*\", \"sfSchema\":\"*\", \"sfWarehouse\":\"*\"}\n"
   ]
  },
  {
   "cell_type": "code",
   "execution_count": 8,
   "metadata": {},
   "outputs": [],
   "source": [
    "df = spark.read.format(SNOWFLAKE_SOURCE_NAME).options(**sfOptions).option(\"query\", \"select * from dev.zsp.VALID_SUBS_DATALEAK\").load()"
   ]
  },
  {
   "cell_type": "code",
   "execution_count": 9,
   "metadata": {},
   "outputs": [
    {
     "name": "stdout",
     "output_type": "stream",
     "text": [
      "+--------------------+--------------------+--------------------+---------+--------------+--------------+-----------------------+------------------+-------------+\n",
      "|       USER_SSO_GUID|  SUBSCRIPTION_START|    SUBSCRIPTION_END|LAST_DATE|REL_DAY_OF_SUB|SUB_CUTOFF_DAY|PREV_SUBSCRIPTION_STATE|SUBSCRIPTION_STATE|LATEST_RECORD|\n",
      "+--------------------+--------------------+--------------------+---------+--------------+--------------+-----------------------+------------------+-------------+\n",
      "|08063b485f58711d:...|-0400 2018-08-20 ...|-0400 2018-09-03 ...|     null|         -9999|            14|                   null|      trial_access|         true|\n",
      "|95096707cdeb01a5:...|-0400 2018-08-22 ...|-0400 2018-09-05 ...|     null|         -9999|            14|                   null|      trial_access|         true|\n",
      "|07bb9eddddf07ddc:...|-0400 2018-08-30 ...|-0400 2018-09-13 ...|     null|         -9999|            14|                   null|      trial_access|         true|\n",
      "|409005c1e01f9b38:...|-0400 2018-09-07 ...|-0400 2018-09-21 ...|     null|         -9999|            14|                   null|      trial_access|         true|\n",
      "|efa047457a23f24d:...|-0400 2018-08-27 ...|-0400 2018-09-10 ...|     null|         -9999|            14|                   null|      trial_access|         true|\n",
      "+--------------------+--------------------+--------------------+---------+--------------+--------------+-----------------------+------------------+-------------+\n",
      "only showing top 5 rows\n",
      "\n"
     ]
    }
   ],
   "source": [
    "df.show(5)"
   ]
  },
  {
   "cell_type": "code",
   "execution_count": 11,
   "metadata": {},
   "outputs": [],
   "source": [
    "spark.stop()"
   ]
  },
  {
   "cell_type": "code",
   "execution_count": null,
   "metadata": {},
   "outputs": [],
   "source": []
  }
 ],
 "metadata": {
  "kernelspec": {
   "display_name": "conda_python3",
   "language": "python",
   "name": "conda_python3"
  },
  "language_info": {
   "codemirror_mode": {
    "name": "ipython",
    "version": 3
   },
   "file_extension": ".py",
   "mimetype": "text/x-python",
   "name": "python",
   "nbconvert_exporter": "python",
   "pygments_lexer": "ipython3",
   "version": "3.6.5"
  }
 },
 "nbformat": 4,
 "nbformat_minor": 2
}
